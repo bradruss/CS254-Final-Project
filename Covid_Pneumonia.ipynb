{
 "cells": [
  {
   "cell_type": "markdown",
   "id": "e8a283ca",
   "metadata": {},
   "source": [
    "# Lung Abnormality Detection with ML\n",
    "### By Haoyuan Pang and Bradley Russavage"
   ]
  },
  {
   "cell_type": "code",
   "execution_count": 17,
   "id": "279910d5",
   "metadata": {},
   "outputs": [],
   "source": [
    "# Import required libraries\n",
    "import os\n",
    "import cv2 # opencv\n",
    "import requests\n",
    "import io\n",
    "import numpy as np\n",
    "import pandas as pd\n",
    "import matplotlib.pyplot as plt\n",
    "\n",
    "import tensorflow as tf\n",
    "import tensorflow_io as tfio # tensorflow-io\n",
    "\n",
    "\n",
    "from sklearn.model_selection import train_test_split\n",
    "from sklearn.linear_model import LogisticRegression\n",
    "from sklearn.svm import SVC\n",
    "from sklearn.ensemble import RandomForestClassifier\n",
    "from sklearn.metrics import confusion_matrix, classification_report, roc_auc_score, roc_curve\n",
    "from sklearn.model_selection import cross_val_score"
   ]
  },
  {
   "cell_type": "markdown",
   "id": "8fc0a9a6",
   "metadata": {},
   "source": [
    "## Functions"
   ]
  },
  {
   "cell_type": "code",
   "execution_count": 2,
   "id": "546bf637",
   "metadata": {},
   "outputs": [
    {
     "name": "stdout",
     "output_type": "stream",
     "text": [
      "15\n"
     ]
    }
   ],
   "source": [
    "main_path = os.getcwd() + '/data/covid_xray/'\n",
    "train_path = main_path + 'train/'\n",
    "test_path = main_path + 'test/'\n",
    "\n",
    "max_dim = 200 # pixels\n",
    "normal = []\n",
    "pneumonia = []\n",
    "classifications = ['Aortic enlargement', 'Atelectasis', 'Calcification', 'Cardiomegaly', 'Consolidation'\n",
    "                  'ILD', 'Infiltration', 'Lung Opacity', 'Nodule/Mass', 'Other lesion', 'Pleural effusion', \n",
    "                   'Pleural thickening', 'Pneumothorax', 'Pulmonary fibrosis', 'No finding', 'Pneumonia']\n",
    "\n",
    "print(len(classifications))\n",
    "\n",
    "def precision_recall(conf_matrix):\n",
    "    tp = np.diag(conf_matrix)\n",
    "    fp = np.sum(conf_matrix, axis=0) - tp \n",
    "    fn = np.sum(conf_matrix, axis=1) - tp\n",
    "    \n",
    "    precision = tp / (tp + fp)\n",
    "    recall = tp / (tp + fn)\n",
    "    \n",
    "    return precision, recall\n",
    "\n",
    "\n",
    "def get_metrics(y_test, predicted, title):\n",
    "    conf_matrix = confusion_matrix(y_test, predicted)\n",
    "    cm_plot = plt.imshow(conf_matrix)\n",
    "    plt.colorbar(cm_plot)\n",
    "    plt.xlabel('Predicted')\n",
    "    plt.ylabel('True')\n",
    "    plt.xticks([_ for _ in range(len(classifications))], classifications)\n",
    "    plt.yticks([_ for _ in range(len(classifications))], classifications)\n",
    "    plt.title(title)\n",
    "    plt.show()\n",
    "#     print(pd.DataFrame(conf_matrix, columns=classifications, index=classifications))\n",
    "#     print(\"\")\n",
    "#     print(precision_recall(conf_matrix))\n",
    "    \n",
    "    \n",
    "# Requires images to be downloaded\n",
    "def convert_images(subpath):\n",
    "    global normal, pneumonia\n",
    "    for i in ['NORMAL/', 'PNEUMONIA/']:\n",
    "        path = subpath + i\n",
    "        for xray in os.listdir(path):\n",
    "            # print(xray) # image name\n",
    "\n",
    "            # Convert image to np array using opencv\n",
    "            try:\n",
    "                img = cv2.imread(path + xray)\n",
    "                img = cv2.cvtColor(img, cv2.COLOR_BGR2GRAY) # convert to grayscale\n",
    "                img_resize = cv2.resize(img, (max_dim, max_dim), cv2.INTER_AREA) # shrink img to 200 by 200\n",
    "                \n",
    "                \n",
    "                if i == \"NORMAL/\":\n",
    "                    normal.append(img_resize)\n",
    "                    #normal = np.append(normal, img_resize, axis=0)\n",
    "                else:\n",
    "                    pneumonia.append(img_resize)\n",
    "                    #pneumonia = np.append(pneumonia, img_resize, axis=0)\n",
    "                    \n",
    "            except Exception as e:\n",
    "                print(e)\n",
    "\n",
    "        print(\"Finished \" + i)"
   ]
  },
  {
   "cell_type": "markdown",
   "id": "ad47107b",
   "metadata": {},
   "source": [
    "## Data loading and preprocessing"
   ]
  },
  {
   "cell_type": "code",
   "execution_count": 1,
   "id": "5e6c828b",
   "metadata": {},
   "outputs": [],
   "source": [
    "# Only use these functions if you have the data manually downloaded\n",
    "\n",
    "# npy_path = \"D:\\\\Downloads\\\\new_xray\\\\train\\\\\"\n",
    "# npy_csv = \"D:\\\\Downloads\\\\downloaded_npy\\\\images\\\\train.csv\"\n",
    "\n",
    "# df = pd.read_csv(npy_csv)\n",
    "# df = df.loc[:,['image_id','class_id']]\n",
    "\n",
    "# # Reduce data to be more balanced\n",
    "# df = df.drop_duplicates(subset=['image_id'])\n",
    "# df = df.drop(df[df['class_id'] == 14].sample(frac=.97).index)\n",
    "# df = df.drop(df[df['class_id'] == 0].sample(frac=.7).index)\n",
    "# df = df.drop(df[df['class_id'] == 3].sample(frac=.7).index)\n",
    "# df = df.drop(df[df['class_id'] == 13].sample(frac=.4).index)\n",
    "# df = df.drop(df[df['class_id'] == 11].sample(frac=.3).index)\n",
    "\n",
    "# # Completely remove\n",
    "# df = df.drop(df[df['class_id'] == 2].sample(frac=1).index)\n",
    "# df = df.drop(df[df['class_id'] == 12].sample(frac=1).index)\n",
    "# df = df.drop(df[df['class_id'] == 1].sample(frac=1).index)\n",
    "# df = df.drop(df[df['class_id'] == 4].sample(frac=1).index)\n",
    "# df = df.drop(df[df['class_id'] == 5].sample(frac=1).index)\n",
    "# df = df.drop(df[df['class_id'] == 6].sample(frac=1).index)\n",
    "\n",
    "# print(df['class_id'].value_counts())\n",
    "\n",
    "\n",
    "# multi = []\n",
    "# y_multi = []\n",
    "\n",
    "# print(df.shape)\n",
    "\n",
    "# for i in range(df.shape[0]):\n",
    "#     name, clf = df.iloc[i]\n",
    "            \n",
    "#     try:\n",
    "# #         img = np.load(npy_path + f\"{name}.npy\")\n",
    "#         img = cv2.imread(npy_path + name + \".png\")\n",
    "#         img = cv2.cvtColor(img, cv2.COLOR_BGR2GRAY)\n",
    "#         img = cv2.resize(img, (max_dim, max_dim), cv2.INTER_AREA)\n",
    "#         multi.append(img)\n",
    "#         y_multi.append(clf)\n",
    "#     except Exception as e:\n",
    "#         print(e)\n",
    "\n",
    "# multi = np.asarray(multi)\n",
    "# y_multi = np.asarray(y_multi)\n",
    "# print(multi.shape)\n",
    "# print(y_multi.shape)"
   ]
  },
  {
   "cell_type": "code",
   "execution_count": 2,
   "id": "344dcbc8",
   "metadata": {},
   "outputs": [],
   "source": [
    "# np.save(\"D:\\\\Downloads\\\\new_xray\\\\multi_reduced.npy\", multi)\n",
    "# np.save(\"D:\\\\Downloads\\\\new_xray\\\\y_multi_reduced.npy\", y_multi)"
   ]
  },
  {
   "cell_type": "code",
   "execution_count": 45,
   "id": "02dab1f6",
   "metadata": {},
   "outputs": [],
   "source": []
  },
  {
   "cell_type": "code",
   "execution_count": 42,
   "id": "41a316d7",
   "metadata": {},
   "outputs": [
    {
     "name": "stdout",
     "output_type": "stream",
     "text": [
      "Normal size: (1575, 200, 200)\n",
      "Pneumonia size: (4265, 200, 200)\n"
     ]
    }
   ],
   "source": [
    "# Load data from silk server\n",
    "URL_NORM = \"https://brussava.w3.uvm.edu/cs254/covid_xray/normal_arr.npy\"\n",
    "resp = requests.get(URL_NORM)\n",
    "resp.raise_for_status()\n",
    "normal = np.load(io.BytesIO(resp.content), allow_pickle=True)\n",
    "\n",
    "URL_PNEU = \"https://brussava.w3.uvm.edu/cs254/covid_xray/pneu_arr.npy\"\n",
    "resp = requests.get(URL_PNEU)\n",
    "resp.raise_for_status()\n",
    "pneumonia = np.load(io.BytesIO(resp.content), allow_pickle=True)\n",
    "\n",
    "\n",
    "print(f\"Normal size: {normal.shape}\") # should be (1575, 200, 200)\n",
    "print(f\"Pneumonia size: {pneumonia.shape}\") # should be (4265, 200, 200)"
   ]
  },
  {
   "cell_type": "code",
   "execution_count": 4,
   "id": "68f2b079",
   "metadata": {},
   "outputs": [
    {
     "name": "stdout",
     "output_type": "stream",
     "text": [
      "(7576, 200, 200)\n"
     ]
    }
   ],
   "source": [
    "URL_MULTI_X = \"https://brussava.w3.uvm.edu/cs254/multi_xray/multi_reduced.npy\"\n",
    "resp = requests.get(URL_MULTI_X)\n",
    "resp.raise_for_status()\n",
    "multi_x = np.load(io.BytesIO(resp.content), allow_pickle=True)\n",
    "\n",
    "print(multi_x.shape)"
   ]
  },
  {
   "cell_type": "code",
   "execution_count": 6,
   "id": "67cbc084",
   "metadata": {},
   "outputs": [
    {
     "name": "stdout",
     "output_type": "stream",
     "text": [
      "(7576,)\n"
     ]
    }
   ],
   "source": [
    "URL_MULTI_y = \"https://brussava.w3.uvm.edu/cs254/multi_xray/y_multi_reduced.npy\"\n",
    "resp = requests.get(URL_MULTI_y)\n",
    "resp.raise_for_status()\n",
    "multi_y = np.load(io.BytesIO(resp.content), allow_pickle=True)\n",
    "\n",
    "print(multi_y.shape)"
   ]
  },
  {
   "cell_type": "code",
   "execution_count": 43,
   "id": "364a3df5",
   "metadata": {},
   "outputs": [
    {
     "name": "stdout",
     "output_type": "stream",
     "text": [
      "Before flattening\n",
      "(1575, 200, 200)\n",
      "(4265, 200, 200)\n",
      "(2516, 200, 200)\n",
      "\n",
      "After reduction\n",
      "(1575, 40000)\n",
      "(4265, 40000)\n",
      "(2516, 40000)\n"
     ]
    }
   ],
   "source": [
    "# Reduce dimensionality for both datasets\n",
    "print(\"Before flattening\")\n",
    "print(normal.shape)\n",
    "print(pneumonia.shape)\n",
    "print(multi_x.shape)\n",
    "\n",
    "examples_n, dim_x_n, dim_y_n = normal.shape\n",
    "normal = normal.reshape((examples_n, dim_x_n * dim_y_n))\n",
    "\n",
    "examples_p, dim_x_p, dim_y_p = pneumonia.shape\n",
    "pneumonia = pneumonia.reshape((examples_p, dim_x_p * dim_y_p))\n",
    "\n",
    "examples_m, dim_x_m, dim_y_m = multi_x.shape\n",
    "multi_x = multi_x.reshape((examples_m, dim_x_m * dim_y_m))\n",
    "\n",
    "print(\"\\nAfter reduction\")\n",
    "print(normal.shape)\n",
    "print(pneumonia.shape)\n",
    "print(multi_x.shape)"
   ]
  },
  {
   "cell_type": "code",
   "execution_count": 46,
   "id": "2f79d9fa",
   "metadata": {},
   "outputs": [
    {
     "name": "stdout",
     "output_type": "stream",
     "text": [
      "(8356, 40000)\n",
      "(8356,)\n",
      "Training x: (6684, 40000) y: (6684,)\n",
      "Testing x: (1672, 40000) y: (1672,)\n"
     ]
    }
   ],
   "source": [
    "# Create X and Y\n",
    "X = np.append(multi_x, normal, axis=0)\n",
    "X = np.append(X, pneumonia, axis=0)\n",
    "\n",
    "# index = type, where the value = number of examples of that type \n",
    "y = np.append(multi_y, [14 for _ in range(normal.shape[0])], axis=0)\n",
    "y = np.append(y, [15 for _ in range(pneumonia.shape[0])], axis=0)\n",
    "\n",
    "del normal, pneumonia, multi_x, multi_y\n",
    "\n",
    "print(X.shape)\n",
    "print(y.shape)\n",
    "\n",
    "\n",
    "# Splitting into train and test\n",
    "x_train, x_test, y_train, y_test = train_test_split(X, y, test_size=0.2, random_state=0)\n",
    "print(\"Training x:\", x_train.shape, \"y:\", y_train.shape)\n",
    "print(\"Testing x:\", x_test.shape, \"y:\", y_test.shape)\n",
    "\n",
    "\n",
    "# Normalize RGB values from 0-255 to 0-1 (div by 255)\n",
    "x_train = np.array(x_train) / 255\n",
    "x_test = np.array(x_test) / 255"
   ]
  },
  {
   "cell_type": "markdown",
   "id": "933353a1",
   "metadata": {},
   "source": [
    "## Random Forest"
   ]
  },
  {
   "cell_type": "code",
   "execution_count": null,
   "id": "5374cf8d",
   "metadata": {},
   "outputs": [],
   "source": [
    "# 70 chosen after iterating though different estimators\n",
    "# rf_class = RandomForestClassifier(n_estimators=110, random_state=0)\n",
    "# rf_pred = rf_class.fit(x_train, y_train).predict(x_test)\n",
    "# total = []\n",
    "# for i in range(70, 150, 10):\n",
    "#     rf_class = RandomForestClassifier(n_estimators=i, random_state=0)\n",
    "#     score = rf_class.fit(x_train, y_train).score(x_test, y_test)\n",
    "#     total.append(score)\n",
    "#     print(f\"{i} finished\")\n",
    "    \n",
    "# plt.plot(total)"
   ]
  },
  {
   "cell_type": "code",
   "execution_count": null,
   "id": "0dc5b732",
   "metadata": {},
   "outputs": [],
   "source": [
    "print(f\"Accuracy: {rf_class.score(x_test, y_test)}\")\n",
    "# print(get_metrics(y_test, rf_pred, \"Random Forest\"))\n",
    "print(classification_report(y_test, rf_pred))"
   ]
  },
  {
   "cell_type": "code",
   "execution_count": 10,
   "id": "6dc5cbea",
   "metadata": {},
   "outputs": [
    {
     "data": {
      "image/png": "[encoded data removed]",
      "text/plain": [
       "<Figure size 432x288 with 1 Axes>"
      ]
     },
     "metadata": {
      "needs_background": "light"
     },
     "output_type": "display_data"
    }
   ],
   "source": [
    "RocCurveDisplay.from_predictions(y_test, rf_pred)\n",
    "plt.show()"
   ]
  },
  {
   "cell_type": "code",
   "execution_count": 14,
   "id": "a1561743",
   "metadata": {},
   "outputs": [],
   "source": [
    "rf_scores = cross_val_score(rf_class, X, y) # Default is 5-fold CV"
   ]
  },
  {
   "cell_type": "code",
   "execution_count": 16,
   "id": "685c05ce",
   "metadata": {},
   "outputs": [
    {
     "name": "stdout",
     "output_type": "stream",
     "text": [
      "RF 5 cv acc: 0.9294520547945204 std dev: 0.0413469783842178\n"
     ]
    }
   ],
   "source": [
    "print(f\"RF 5 cv acc: {rf_scores.mean()} std dev: {rf_scores.std()}\")"
   ]
  },
  {
   "cell_type": "code",
   "execution_count": null,
   "id": "0addc115",
   "metadata": {},
   "outputs": [],
   "source": [
    "# log_reg = LogisticRegression(penalty='elasticnet', l1_ratio=0.5, C=3, solver='saga', random_state=0)\n",
    "# log_reg_fit = log_reg.fit(x_train, y_train).predict(x_test)\n",
    "\n",
    "# log_reg = LogisticRegression(penalty='elasticnet', l1_ratio=0.5, C=3, solver='saga', max_iter=50, multi_class=\"multinomial\", random_state=0)\n"
   ]
  },
  {
   "cell_type": "markdown",
   "id": "943e4a25",
   "metadata": {},
   "source": [
    "## SVM"
   ]
  },
  {
   "cell_type": "code",
   "execution_count": 47,
   "id": "989140de",
   "metadata": {},
   "outputs": [],
   "source": [
    "svc = SVC(kernel=\"linear\", class_weight=\"balanced\", probability=True)\n",
    "svc_predicted = svc.fit(x_train, y_train).predict(x_test)"
   ]
  },
  {
   "cell_type": "markdown",
   "id": "e68b1dc8",
   "metadata": {},
   "source": [
    "### SVM Metrics"
   ]
  },
  {
   "cell_type": "code",
   "execution_count": 48,
   "id": "c753d53a",
   "metadata": {},
   "outputs": [
    {
     "name": "stdout",
     "output_type": "stream",
     "text": [
      "Accuracy: 0.7063397129186603\n"
     ]
    }
   ],
   "source": [
    "print(f\"Accuracy: {svc.score(x_test, y_test)}\")\n",
    "# print(get_metrics(y_test, svc_predicted, \"SVM\"))\n",
    "# print(classification_report(y_test, svc_predicted))"
   ]
  },
  {
   "cell_type": "code",
   "execution_count": 51,
   "id": "6e021e16",
   "metadata": {},
   "outputs": [],
   "source": [
    "# RocCurveDisplay.from_predictions(y_test, svc_predicted)\n",
    "\n",
    "# auc = roc_auc_score()\n",
    "# fpr, tpr, thresholds = roc_curve(y_test, svc.predict_proba(x_test)[:,1])\n",
    "# auc_t = roc_auc_score(y_test, svc_predicted)\n",
    "# plt.plot(fpr, tpr, label='SVM')\n",
    "                                                                         \n",
    "# plt.show()"
   ]
  },
  {
   "cell_type": "code",
   "execution_count": 53,
   "id": "5c6af249",
   "metadata": {},
   "outputs": [],
   "source": [
    "# svc_scores = cross_val_score(svc, X, y) # Default is 5-fold CV"
   ]
  },
  {
   "cell_type": "code",
   "execution_count": null,
   "id": "661e11ed",
   "metadata": {},
   "outputs": [],
   "source": [
    "# print(f\"SVC 5 cv acc: {svc_scores.mean()} std dev: {svc_scores.std()}\")"
   ]
  },
  {
   "cell_type": "code",
   "execution_count": null,
   "id": "70c66419",
   "metadata": {},
   "outputs": [],
   "source": []
  }
 ],
 "metadata": {
  "kernelspec": {
   "display_name": "Python 3 (ipykernel)",
   "language": "python",
   "name": "python3"
  },
  "language_info": {
   "codemirror_mode": {
    "name": "ipython",
    "version": 3
   },
   "file_extension": ".py",
   "mimetype": "text/x-python",
   "name": "python",
   "nbconvert_exporter": "python",
   "pygments_lexer": "ipython3",
   "version": "3.8.12"
  }
 },
 "nbformat": 4,
 "nbformat_minor": 5
}
