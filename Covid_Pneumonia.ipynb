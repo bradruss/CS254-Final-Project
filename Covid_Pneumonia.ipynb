{
 "cells": [
  {
   "cell_type": "markdown",
   "id": "e8a283ca",
   "metadata": {},
   "source": [
    "# Differentiating Regular and Pneumonia X-rays with ML\n",
    "### By Haoyuan Pang and Bradley Russavage"
   ]
  },
  {
   "cell_type": "code",
   "execution_count": 18,
   "id": "279910d5",
   "metadata": {},
   "outputs": [],
   "source": [
    "# Import required libraries\n",
    "import os\n",
    "import cv2 # opencv\n",
    "import requests\n",
    "import io\n",
    "import numpy as np\n",
    "import pandas as pd\n",
    "import matplotlib.pyplot as plt\n",
    "\n",
    "import tensorflow as tf\n",
    "import tensorflow_io as tfio # tensorflow-io\n",
    "\n",
    "\n",
    "from sklearn.model_selection import train_test_split\n",
    "from sklearn.linear_model import LogisticRegression\n",
    "from sklearn.svm import SVC\n",
    "from sklearn.ensemble import RandomForestClassifier\n",
    "from sklearn.metrics import confusion_matrix, classification_report, RocCurveDisplay\n",
    "from sklearn.model_selection import cross_val_score"
   ]
  },
  {
   "cell_type": "markdown",
   "id": "8fc0a9a6",
   "metadata": {},
   "source": [
    "## Define Functions"
   ]
  },
  {
   "cell_type": "code",
   "execution_count": 19,
   "id": "546bf637",
   "metadata": {},
   "outputs": [],
   "source": [
    "main_path = os.getcwd() + '/data/covid_xray/'\n",
    "train_path = main_path + 'train/'\n",
    "test_path = main_path + 'test/'\n",
    "\n",
    "max_dim = 200 # pixels\n",
    "normal = []\n",
    "pneumonia = []\n",
    "\n",
    "def precision_recall(conf_matrix):\n",
    "    tp = np.diag(conf_matrix)\n",
    "    fp = np.sum(conf_matrix, axis=0) - tp \n",
    "    fn = np.sum(conf_matrix, axis=1) - tp\n",
    "    \n",
    "    precision = tp / (tp + fp)\n",
    "    recall = tp / (tp + fn)\n",
    "    \n",
    "    return precision, recall\n",
    "\n",
    "\n",
    "def get_metrics(y_test, predicted, title):\n",
    "    conf_matrix = confusion_matrix(y_test, predicted)\n",
    "    cm_plot = plt.imshow(conf_matrix)\n",
    "    plt.colorbar(cm_plot)\n",
    "    plt.xlabel('Predicted')\n",
    "    plt.ylabel('True')\n",
    "    plt.xticks([0,1], [\"Normal (0)\", \"Pneumonia (1)\"])\n",
    "    plt.yticks([0,1], [\"Normal (0)\", \"Pneumonia (1)\"])\n",
    "    plt.title(title)\n",
    "    plt.show()\n",
    "    print(pd.DataFrame(conf_matrix, columns=[\"Normal (0)\", \"Pneumonia (1)\"], index=[\"Normal (0)\", \"Pneumonia (1)\"]))\n",
    "    print(\"\")\n",
    "    print(precision_recall(conf_matrix))\n",
    "    \n",
    "    \n",
    "# Requires images to be downloaded\n",
    "def convert_images(subpath):\n",
    "    global normal, pneumonia\n",
    "    for i in ['NORMAL/', 'PNEUMONIA/']:\n",
    "        path = subpath + i\n",
    "        for xray in os.listdir(path):\n",
    "            # print(xray) # image name\n",
    "\n",
    "            # Convert image to np array using opencv\n",
    "            try:\n",
    "                img = cv2.imread(path + xray)\n",
    "                img = cv2.cvtColor(img, cv2.COLOR_BGR2GRAY) # convert to grayscale\n",
    "                img_resize = cv2.resize(img, (max_dim, max_dim), cv2.INTER_AREA) # shrink img to 200 by 200\n",
    "                \n",
    "                \n",
    "                if i == \"NORMAL/\":\n",
    "                    normal.append(img_resize)\n",
    "                    #normal = np.append(normal, img_resize, axis=0)\n",
    "                else:\n",
    "                    pneumonia.append(img_resize)\n",
    "                    #pneumonia = np.append(pneumonia, img_resize, axis=0)\n",
    "                    \n",
    "            except Exception as e:\n",
    "                print(e)\n",
    "\n",
    "        print(\"Finished \" + i)"
   ]
  },
  {
   "cell_type": "markdown",
   "id": "ad47107b",
   "metadata": {},
   "source": [
    "## Data loading and preprocessing"
   ]
  },
  {
   "cell_type": "code",
   "execution_count": 20,
   "id": "5e6c828b",
   "metadata": {},
   "outputs": [],
   "source": [
    "# Only use these functions if you have the data manually downloaded\n",
    "\n",
    "#convert_images(train_path)\n",
    "#convert_images(test_path)\n",
    "\n",
    "# Write to a file for ease of data access\n",
    "# normal = np.asarray(normal)\n",
    "# pneumonia = np.asarray(pneumonia)\n",
    "# np.save(main_path + \"normal_arr.npy\", normal)\n",
    "# np.save(main_path + \"pneu_arr.npy\", pneumonia)\n",
    "\n",
    "# Load data from data.npy\n",
    "#normal = np.load(main_path + \"normal_arr.npy\", allow_pickle=True)\n",
    "#pneumonia = np.load(main_path + \"pneu_arr.npy\", allow_pickle=True)\n",
    "\n",
    "#print(normal.shape)\n",
    "#print(pneumonia.shape)\n",
    "\n",
    "\n",
    "# import shutil\n",
    "# csv_path = \"D:\\\\Downloads\\\\archive\\\\train.csv\"\n",
    "# dicom_p = \"D:\\\\Downloads\\\\archive\\\\train\\\\\"\n",
    "\n",
    "# dicom_df = pd.read_csv(csv_path)\n",
    "# dicom_df = dicom_df.loc[:,['image_id','class_id']]\n",
    "\n",
    "# dicom_df.shape[0]\n",
    "\n",
    "# # Make folders for classifiers\n",
    "# for n in range(15):\n",
    "#     os.mkdir(dicom_p + str(n))\n",
    "\n",
    "# # Place them into their respective folders \n",
    "# for i in range(dicom_df.shape[0]):\n",
    "#     name, clf = dicom_df.iloc[i]\n",
    "#     try:\n",
    "#         shutil.move(dicom_p + name + \".png\", dicom_p + str(clf) + \"\\\\\" + name + \".png\")\n",
    "#     except:\n",
    "#         pass\n",
    "# d_all = []\n",
    "\n",
    "# for n in range(15):\n",
    "#     path = dicom_p + str(n) + \"\\\\\"\n",
    "#     dicoms = []\n",
    "#     print(f\"Started {n}\")\n",
    "#     for img_url in os.listdir(path):\n",
    "        \n",
    "        \n",
    "# #         img_bytes = tf.io.read_file(path + img_url)\n",
    "# #         image = tfio.image.decode_dicom_image(img_bytes, dtype=tf.uint16)\n",
    "# #         image = image.numpy()[0]\n",
    "#         image = cv2.imread(path + img_url)\n",
    "#         image = cv2.cvtColor(image, cv2.COLOR_BGR2GRAY)\n",
    "#         image = cv2.resize(image, (max_dim, max_dim), cv2.INTER_AREA)\n",
    "#         dicoms.append(image)\n",
    "#         d_all.append(image)\n",
    "\n",
    "#     dicoms = np.asarray(dicoms)\n",
    "#     print(f\"{n} shape: {dicoms.shape}\")\n",
    "#     np.save(f\"D:\\\\Downloads\\\\archive\\\\training_{str(n)}.npy\", dicoms)\n",
    "#     print(f\"Finished {n}\")\n",
    "        \n",
    "# d_all = np.asarray(d_all)\n",
    "# np.save(\"D:\\\\Downloads\\\\archive\\\\training_all.npy\", d_all)"
   ]
  },
  {
   "cell_type": "code",
   "execution_count": 21,
   "id": "41a316d7",
   "metadata": {},
   "outputs": [
    {
     "name": "stdout",
     "output_type": "stream",
     "text": [
      "Normal size: (1575, 200, 200)\n",
      "Pneumonia size: (4265, 200, 200)\n"
     ]
    }
   ],
   "source": [
    "# Load data from silk server\n",
    "URL_NORM = \"https://brussava.w3.uvm.edu/cs254/covid_xray/normal_arr.npy\"\n",
    "resp = requests.get(URL_NORM)\n",
    "resp.raise_for_status()\n",
    "normal = np.load(io.BytesIO(resp.content), allow_pickle=True)\n",
    "\n",
    "URL_PNEU = \"https://brussava.w3.uvm.edu/cs254/covid_xray/pneu_arr.npy\"\n",
    "resp = requests.get(URL_PNEU)\n",
    "resp.raise_for_status()\n",
    "pneumonia = np.load(io.BytesIO(resp.content), allow_pickle=True)\n",
    "\n",
    "\n",
    "print(f\"Normal size: {normal.shape}\") # should be (1575, 200, 200)\n",
    "print(f\"Pneumonia size: {pneumonia.shape}\") # should be (4265, 200, 200)"
   ]
  },
  {
   "cell_type": "code",
   "execution_count": 22,
   "id": "68f2b079",
   "metadata": {},
   "outputs": [
    {
     "name": "stdout",
     "output_type": "stream",
     "text": [
      "(15000, 200, 200)\n"
     ]
    }
   ],
   "source": [
    "URL_MULTI = \"https://brussava.w3.uvm.edu/cs254/multi_xray/training_all.npy\"\n",
    "resp = requests.get(URL_MULTI)\n",
    "resp.raise_for_status()\n",
    "multi = np.load(io.BytesIO(resp.content), allow_pickle=True)\n",
    "\n",
    "print(multi.shape) # should be (15000, 200, 200)\n",
    "\n",
    "# You can also get the files individually for each classification at:\n",
    "# https://brussava.w3.uvm.edu/cs254/multi_xray/training_num.npy\n",
    "# where num = 0 to 14 "
   ]
  },
  {
   "cell_type": "code",
   "execution_count": 24,
   "id": "67cbc084",
   "metadata": {},
   "outputs": [],
   "source": [
    "# Alternatively, the files can be downloaded from their urls manually, and can be loaded with:\n",
    "# normal = np.load(\"download folder path here\", allow_pickle=True)\n",
    "# pneumonia = np.load(\"download folder path here\", allow_pickle=True)\n",
    "# multi = np.load(\"download folder path here\", allow_pickle=True)"
   ]
  },
  {
   "cell_type": "markdown",
   "id": "98d001a4",
   "metadata": {},
   "source": [
    "Multi in order of classification (with element amount)\n",
    "- 0 Aortic enlargement\n",
    "    - 1127\n",
    "- 1 Atelectasis\n",
    "    - 30\n",
    "- 2 Calcification\n",
    "    - 91\n",
    "- 3 Cardiomegaly\n",
    "    - 878\n",
    "- 4 Consolidation\n",
    "    - 46\n",
    "- 5 ILD\n",
    "    - 111\n",
    "- 6 Infiltration\n",
    "    - 134\n",
    "- 7 Lung Opacity\n",
    "    - 251\n",
    "- 8 Nodule/Mass\n",
    "    - 221\n",
    "- 9 Other lesion\n",
    "    - 224\n",
    "- 10 Pleural effusion\n",
    "    - 241\n",
    "- 11 Pleural thickening\n",
    "    - 496\n",
    "- 12 Pneumothorax\n",
    "    - 22\n",
    "- 13 Pulmonary fibrosis\n",
    "    - 522\n",
    "- 14 No findings\n",
    "    - 10606"
   ]
  },
  {
   "cell_type": "code",
   "execution_count": 31,
   "id": "364a3df5",
   "metadata": {},
   "outputs": [
    {
     "name": "stdout",
     "output_type": "stream",
     "text": [
      "Before flattening\n",
      "(1575, 200, 200)\n",
      "(4265, 200, 200)\n",
      "(15000, 200, 200)\n",
      "\n",
      "After reduction\n",
      "(1575, 40000)\n",
      "(4265, 40000)\n",
      "(15000, 40000)\n"
     ]
    }
   ],
   "source": [
    "# Reduce dimensionality for both datasets\n",
    "print(\"Before flattening\")\n",
    "print(normal.shape)\n",
    "print(pneumonia.shape)\n",
    "print(multi.shape)\n",
    "\n",
    "examples_n, dim_x_n, dim_y_n = normal.shape\n",
    "normal = normal.reshape((examples_n, dim_x_n * dim_y_n))\n",
    "\n",
    "examples_p, dim_x_p, dim_y_p = pneumonia.shape\n",
    "pneumonia = pneumonia.reshape((examples_p, dim_x_p * dim_y_p))\n",
    "\n",
    "examples_m, dim_x_m, dim_y_m = multi.shape\n",
    "multi = multi.reshape((examples_m, dim_x_m * dim_y_m))\n",
    "\n",
    "print(\"\\nAfter reduction\")\n",
    "print(normal.shape)\n",
    "print(pneumonia.shape)\n",
    "print(multi.shape)"
   ]
  },
  {
   "cell_type": "code",
   "execution_count": 32,
   "id": "2f79d9fa",
   "metadata": {},
   "outputs": [
    {
     "name": "stdout",
     "output_type": "stream",
     "text": [
      "(20840, 40000)\n",
      "(20840,)\n",
      "Training x: (15630, 40000) y: (15630,)\n",
      "Testing x: (5210, 40000) y: (5210,)\n"
     ]
    }
   ],
   "source": [
    "# Create X and Y\n",
    "X = np.append(multi, normal, axis=0)\n",
    "X = np.append(X, pneumonia, axis=0)\n",
    "\n",
    "# index = type, where the value = number of examples of that type \n",
    "y = np.array([])\n",
    "totals = [1127, 30, 91, 878, 46, 111, 134, 251, 221, 224, 241, 496, 22, 522, 10606 + normal.shape[0], pneumonia.shape[0]]\n",
    "\n",
    "for i in range(len(totals)):\n",
    "    y = np.append(y, [i for _ in range(totals[i])], axis=0)\n",
    "\n",
    "\n",
    "# y = np.array([0 for _ in range()]) # Aortic enlargement\n",
    "# del normal, pneumonia, multi\n",
    "\n",
    "print(X.shape)\n",
    "print(y.shape)\n",
    "\n",
    "\n",
    "# Splitting into train and test\n",
    "x_train, x_test, y_train, y_test = train_test_split(X, y, test_size=0.25, random_state=0)\n",
    "print(\"Training x:\", x_train.shape, \"y:\", y_train.shape)\n",
    "print(\"Testing x:\", x_test.shape, \"y:\", y_test.shape)\n",
    "\n",
    "\n",
    "# Normalize RGB values from 0-255 to 0-1 (div by 255)\n",
    "x_train = np.array(x_train) / 255\n",
    "x_test = np.array(x_test) / 255"
   ]
  },
  {
   "cell_type": "markdown",
   "id": "933353a1",
   "metadata": {},
   "source": [
    "## Random Forest"
   ]
  },
  {
   "cell_type": "code",
   "execution_count": 33,
   "id": "5374cf8d",
   "metadata": {},
   "outputs": [],
   "source": [
    "# 70 chosen after iterating though different estimators\n",
    "rf_class = RandomForestClassifier(n_estimators=70, random_state=0)\n",
    "rf_pred = rf_class.fit(x_train, y_train).predict(x_test)"
   ]
  },
  {
   "cell_type": "code",
   "execution_count": 1,
   "id": "0dc5b732",
   "metadata": {},
   "outputs": [],
   "source": [
    "print(f\"Accuracy: {rf_class.score(x_test, y_test)}\")\n",
    "print(get_metrics(y_test, rf_pred, \"Random Forest\"))\n",
    "print(classification_report(y_test, rf_pred))"
   ]
  },
  {
   "cell_type": "code",
   "execution_count": 10,
   "id": "6dc5cbea",
   "metadata": {},
   "outputs": [
    {
     "data": {
      "image/png": "[encoded data removed]",
      "text/plain": [
       "<Figure size 432x288 with 1 Axes>"
      ]
     },
     "metadata": {
      "needs_background": "light"
     },
     "output_type": "display_data"
    }
   ],
   "source": [
    "RocCurveDisplay.from_predictions(y_test, rf_pred)\n",
    "plt.show()"
   ]
  },
  {
   "cell_type": "code",
   "execution_count": 14,
   "id": "a1561743",
   "metadata": {},
   "outputs": [],
   "source": [
    "rf_scores = cross_val_score(rf_class, X, y) # Default is 5-fold CV"
   ]
  },
  {
   "cell_type": "code",
   "execution_count": 16,
   "id": "685c05ce",
   "metadata": {},
   "outputs": [
    {
     "name": "stdout",
     "output_type": "stream",
     "text": [
      "RF 5 cv acc: 0.9294520547945204 std dev: 0.0413469783842178\n"
     ]
    }
   ],
   "source": [
    "print(f\"RF 5 cv acc: {rf_scores.mean()} std dev: {rf_scores.std()}\")"
   ]
  },
  {
   "cell_type": "markdown",
   "id": "943e4a25",
   "metadata": {},
   "source": [
    "## SVM"
   ]
  },
  {
   "cell_type": "code",
   "execution_count": null,
   "id": "989140de",
   "metadata": {},
   "outputs": [],
   "source": [
    "# Need to optimize this\n",
    "\n",
    "\n",
    "svc = SVC(kernel=\"poly\")\n",
    "svc_predicted = svc.fit(x_train, y_train).predict(x_test)"
   ]
  },
  {
   "cell_type": "markdown",
   "id": "e68b1dc8",
   "metadata": {},
   "source": [
    "### SVM Metrics"
   ]
  },
  {
   "cell_type": "code",
   "execution_count": null,
   "id": "c753d53a",
   "metadata": {},
   "outputs": [],
   "source": [
    "print(f\"Accuracy: {svc.score(x_test, y_test)}\")\n",
    "# print(get_metrics(y_test, svc_predicted, \"SVM\"))\n",
    "# print(classification_report(y_test, svc_predicted))"
   ]
  },
  {
   "cell_type": "code",
   "execution_count": 60,
   "id": "6e021e16",
   "metadata": {},
   "outputs": [
    {
     "data": {
      "image/png": "[encoded data removed]",
      "text/plain": [
       "<Figure size 432x288 with 1 Axes>"
      ]
     },
     "metadata": {
      "needs_background": "light"
     },
     "output_type": "display_data"
    }
   ],
   "source": [
    "RocCurveDisplay.from_predictions(y_test, svc_predicted)\n",
    "plt.show()"
   ]
  },
  {
   "cell_type": "code",
   "execution_count": 101,
   "id": "22b6162e",
   "metadata": {},
   "outputs": [
    {
     "name": "stdout",
     "output_type": "stream",
     "text": [
      "(200, 200)\n"
     ]
    },
    {
     "data": {
      "text/plain": [
       "array([1])"
      ]
     },
     "execution_count": 101,
     "metadata": {},
     "output_type": "execute_result"
    }
   ],
   "source": [
    "# This was just used as a sanity check \n",
    "# img = cv2.imread(main_path + \"val\\\\PNEUMONIA\\\\person1946_bacteria_4875.jpeg\")\n",
    "# img = cv2.cvtColor(img, cv2.COLOR_BGR2GRAY)\n",
    "# img_resize = cv2.resize(img, (max_dim, max_dim), cv2.INTER_AREA)\n",
    "\n",
    "# print(img_resize.shape)\n",
    "\n",
    "# dim_i_x, dim_i_y = img_resize.shape\n",
    "# img_resize = img_resize.reshape((dim_i_x * dim_i_y))\n",
    "# img_resize = [img_resize]\n",
    "\n",
    "# svc.predict(img_resize)"
   ]
  },
  {
   "cell_type": "code",
   "execution_count": 17,
   "id": "5c6af249",
   "metadata": {},
   "outputs": [],
   "source": [
    "svc_scores = cross_val_score(svc, X, y) # Default is 5-fold CV"
   ]
  },
  {
   "cell_type": "code",
   "execution_count": 18,
   "id": "661e11ed",
   "metadata": {},
   "outputs": [
    {
     "name": "stdout",
     "output_type": "stream",
     "text": [
      "SVC 5 cv acc: 0.9342465753424657 std dev: 0.04201107115339727\n"
     ]
    }
   ],
   "source": [
    "print(f\"SVC 5 cv acc: {svc_scores.mean()} std dev: {svc_scores.std()}\")"
   ]
  }
 ],
 "metadata": {
  "kernelspec": {
   "display_name": "Python 3 (ipykernel)",
   "language": "python",
   "name": "python3"
  },
  "language_info": {
   "codemirror_mode": {
    "name": "ipython",
    "version": 3
   },
   "file_extension": ".py",
   "mimetype": "text/x-python",
   "name": "python",
   "nbconvert_exporter": "python",
   "pygments_lexer": "ipython3",
   "version": "3.8.12"
  }
 },
 "nbformat": 4,
 "nbformat_minor": 5
}
