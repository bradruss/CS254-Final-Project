{
 "cells": [
  {
   "cell_type": "markdown",
   "id": "e8a283ca",
   "metadata": {},
   "source": [
    "# Differentiating Regular and Pneumonia X-rays with ML\n",
    "### By Haoyuan Pang and Bradley Russavage"
   ]
  },
  {
   "cell_type": "code",
   "execution_count": null,
   "id": "279910d5",
   "metadata": {},
   "outputs": [],
   "source": [
    "# Import required libraries\n",
    "import os\n",
    "import cv2 # opencv\n",
    "import numpy as np\n",
    "import pandas as pd\n",
    "import matplotlib.pyplot as plt\n",
    "\n",
    "# from sklearn._ import _\n",
    "#from sklearn.metrics import confusion_matrix, classification_report"
   ]
  },
  {
   "cell_type": "markdown",
   "id": "8fc0a9a6",
   "metadata": {},
   "source": [
    "## Define Functions"
   ]
  },
  {
   "cell_type": "code",
   "execution_count": null,
   "id": "546bf637",
   "metadata": {},
   "outputs": [],
   "source": [
    "main_path = os.getcwd() + '/data/covid_xray/'\n",
    "train_path = main_path + 'train/'\n",
    "test_path = main_path + 'test/'\n",
    "\n",
    "data = []\n",
    "max_dim = 200 # pixels\n",
    "\n",
    "def convert_images(subpath):\n",
    "    for i in ['NORMAL/', 'PNEUMONIA/']:\n",
    "        path = subpath + i\n",
    "        for xray in os.listdir(path):\n",
    "            # print(xray) # image name\n",
    "\n",
    "            # Convert image to np array using opencv\n",
    "            try:\n",
    "                img = cv2.imread(path + xray)\n",
    "                img_resize = cv2.resize(img, (max_dim, max_dim), cv2.INTER_AREA) # shrink img to 200 by 200\n",
    "                cv2.cvtColor(img_resize, cv2.COLOR_BGR2RGB) # convert back to RGB\n",
    "                data.append(img_resize)\n",
    "            except Exception as e:\n",
    "                print(e)\n",
    "\n",
    "            # TODO make values between 0 and 1?\n",
    "\n",
    "        print(\"Finished \" + i)"
   ]
  },
  {
   "cell_type": "markdown",
   "id": "ad47107b",
   "metadata": {},
   "source": [
    "## Data preprocessing"
   ]
  },
  {
   "cell_type": "code",
   "execution_count": null,
   "id": "41a316d7",
   "metadata": {},
   "outputs": [],
   "source": [
    "convert_images(train_path)\n",
    "convert_images(test_path)\n",
    "\n",
    "print(f\"Data size: {len(data)}\")\n",
    "print(train[1])"
   ]
  },
  {
   "cell_type": "code",
   "execution_count": null,
   "id": "54c56f26",
   "metadata": {},
   "outputs": [],
   "source": [
    "# Write to a file for ease of data access\n",
    "#data = np.asarray(data)\n",
    "#data.tofile(main_path + \"data.txt\", sep=\" \", format=\"%s\")\n",
    "\n",
    "# Need a more efficient way to do this considering my output file was 2 gb"
   ]
  },
  {
   "cell_type": "code",
   "execution_count": null,
   "id": "2f79d9fa",
   "metadata": {},
   "outputs": [],
   "source": [
    "# Probably want to do our own custom train/test splitting"
   ]
  }
 ],
 "metadata": {
  "kernelspec": {
   "display_name": "Python 3 (ipykernel)",
   "language": "python",
   "name": "python3"
  },
  "language_info": {
   "codemirror_mode": {
    "name": "ipython",
    "version": 3
   },
   "file_extension": ".py",
   "mimetype": "text/x-python",
   "name": "python",
   "nbconvert_exporter": "python",
   "pygments_lexer": "ipython3",
   "version": "3.8.12"
  }
 },
 "nbformat": 4,
 "nbformat_minor": 5
}
