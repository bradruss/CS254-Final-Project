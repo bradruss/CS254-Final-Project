{
 "cells": [
  {
   "cell_type": "markdown",
   "id": "e8a283ca",
   "metadata": {},
   "source": [
    "# Differentiating Regular and Pneumonia X-rays with ML\n",
    "### By Haoyuan Pang and Bradley Russavage"
   ]
  },
  {
   "cell_type": "code",
   "execution_count": null,
   "id": "279910d5",
   "metadata": {},
   "outputs": [],
   "source": [
    "# Import required libraries\n",
    "import os\n",
    "import cv2 # opencv\n",
    "import requests\n",
    "import io\n",
    "import numpy as np\n",
    "import pandas as pd\n",
    "import matplotlib.pyplot as plt\n",
    "\n",
    "from sklearn.model_selection import train_test_split\n",
    "from sklearn.metrics import confusion_matrix"
   ]
  },
  {
   "cell_type": "markdown",
   "id": "8fc0a9a6",
   "metadata": {},
   "source": [
    "## Define Functions"
   ]
  },
  {
   "cell_type": "code",
   "execution_count": null,
   "id": "546bf637",
   "metadata": {},
   "outputs": [],
   "source": [
    "main_path = os.getcwd() + '/data/covid_xray/'\n",
    "train_path = main_path + 'train/'\n",
    "test_path = main_path + 'test/'\n",
    "\n",
    "max_dim = 200 # pixels\n",
    "\n",
    "def precision_recall(confmatrix):\n",
    "    tp = np.diag(conf_matrix)\n",
    "    fp = np.sum(conf_matrix, axis=0) - tp \n",
    "    fn = np.sum(conf_matrix, axis=1) - tp\n",
    "    \n",
    "    precision = tp / (tp + fp)\n",
    "    recall = tp / (tp + fn)\n",
    "    \n",
    "    return precision, recall\n",
    "\n",
    "# Requires images to be downloaded\n",
    "def convert_images(subpath):\n",
    "    data = []\n",
    "    for i in ['NORMAL/', 'PNEUMONIA/']:\n",
    "        path = subpath + i\n",
    "        for xray in os.listdir(path):\n",
    "            # print(xray) # image name\n",
    "\n",
    "            # Convert image to np array using opencv\n",
    "            try:\n",
    "                img = cv2.imread(path + xray)\n",
    "                img_resize = cv2.resize(img, (max_dim, max_dim), cv2.INTER_AREA) # shrink img to 200 by 200\n",
    "                cv2.cvtColor(img_resize, cv2.COLOR_BGR2RGB) # convert back to RGB\n",
    "                \n",
    "                if i == \"NORMAL/\":\n",
    "                    data.append([img_resize, 0])\n",
    "                else:\n",
    "                    data.append([img_resize, 1])\n",
    "            except Exception as e:\n",
    "                print(e)\n",
    "\n",
    "        print(\"Finished \" + i)\n",
    "    return data\n",
    "        \n",
    "\n"
   ]
  },
  {
   "cell_type": "markdown",
   "id": "ad47107b",
   "metadata": {},
   "source": [
    "## Data preprocessing"
   ]
  },
  {
   "cell_type": "code",
   "execution_count": null,
   "id": "5e6c828b",
   "metadata": {},
   "outputs": [],
   "source": [
    "# Only use these functions if you have the data manually downloaded\n",
    "\n",
    "#convert_images(train_path)\n",
    "#convert_images(test_path)\n",
    "\n",
    "# Write to a file for ease of data access\n",
    "#data = np.asarray(data)\n",
    "#np.save(main_path + \"data.npy\", data)\n",
    "\n",
    "# Load data from data.npy\n",
    "# data = np.load(main_path + \"data.npy\", allow_pickle=True)\n",
    "# print(data[0])"
   ]
  },
  {
   "cell_type": "code",
   "execution_count": null,
   "id": "41a316d7",
   "metadata": {},
   "outputs": [],
   "source": [
    "# Load data from silk server. This may take a while\n",
    "URL = \"https://brussava.w3.uvm.edu/cs254/data.npy\"\n",
    "resp = requests.get(URL)\n",
    "resp.raise_for_status()\n",
    "data = np.load(io.BytesIO(resp.content), allow_pickle=True)\n",
    "\n",
    "print(f\"Data size: {len(data)}\")\n",
    "\n",
    "df = pd.DataFrame(data, columns=[\"Image\", \"Pneumonia\"])\n",
    "df.head()"
   ]
  },
  {
   "cell_type": "code",
   "execution_count": null,
   "id": "25d6c88a",
   "metadata": {},
   "outputs": [],
   "source": [
    "# Visualize an xray image\n",
    "print(data[1][0])\n",
    "\n",
    "# This shows as a popup window\n",
    "#cv2.imshow('Test', data[1][0])\n",
    "#cv2.waitKey(0) # Do not delete this line or the notebook kernel will crash"
   ]
  },
  {
   "cell_type": "code",
   "execution_count": null,
   "id": "ebded62b",
   "metadata": {},
   "outputs": [],
   "source": []
  },
  {
   "cell_type": "code",
   "execution_count": null,
   "id": "2f79d9fa",
   "metadata": {},
   "outputs": [],
   "source": [
    "# Splitting into train and test\n",
    "X = np.array([x for x, _ in data])\n",
    "y = np.array([y for _, y in data])\n",
    "\n",
    "x_train, x_test, y_train, y_test = train_test_split(X, y, test_size=0.25, random_state=0)\n",
    "\n",
    "\n",
    "# Normalize RGB values from 0-255 to 0-1 (div by 255)\n",
    "x_train = np.array(x_train) / 255\n",
    "x_test = np.array(x_test) / 255"
   ]
  },
  {
   "cell_type": "markdown",
   "id": "471d9a5b",
   "metadata": {},
   "source": [
    "## Model here"
   ]
  },
  {
   "cell_type": "code",
   "execution_count": null,
   "id": "5374cf8d",
   "metadata": {},
   "outputs": [],
   "source": [
    "# code"
   ]
  },
  {
   "cell_type": "markdown",
   "id": "60f2c62b",
   "metadata": {},
   "source": [
    "## Results"
   ]
  },
  {
   "cell_type": "code",
   "execution_count": null,
   "id": "e7995b89",
   "metadata": {},
   "outputs": [],
   "source": [
    "# Confusion matrix\n",
    "confmatrix = confusion_matrix(y_test, y_predicted)\n",
    "cm_plt = plt.imshow(conf_matrix)\n",
    "plt.title(\"Confusion Matrix\")\n",
    "plt.colorbar(cm_plt)\n",
    "plt.show()"
   ]
  },
  {
   "cell_type": "code",
   "execution_count": null,
   "id": "eb207dae",
   "metadata": {},
   "outputs": [],
   "source": [
    "# Precision and recall\n",
    "precision, recall = precision_recall(confmatrix)\n",
    "\n",
    "# Display in a df\n",
    "# prec_df = pd.DataFrame(precision, columns=['Precision'])\n",
    "# recall_df = pd.DataFrame(recall, columns=['Recall'])\n",
    "# print(pd.concat([prec_df, recall_df], axis=1))"
   ]
  }
 ],
 "metadata": {
  "kernelspec": {
   "display_name": "Python 3 (ipykernel)",
   "language": "python",
   "name": "python3"
  },
  "language_info": {
   "codemirror_mode": {
    "name": "ipython",
    "version": 3
   },
   "file_extension": ".py",
   "mimetype": "text/x-python",
   "name": "python",
   "nbconvert_exporter": "python",
   "pygments_lexer": "ipython3",
   "version": "3.8.12"
  }
 },
 "nbformat": 4,
 "nbformat_minor": 5
}
