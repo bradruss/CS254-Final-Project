{
 "cells": [
  {
   "cell_type": "markdown",
   "id": "e8a283ca",
   "metadata": {},
   "source": [
    "# Differentiating Regular and Pneumonia X-rays with ML\n",
    "### By Haoyuan Pang and Bradley Russavage"
   ]
  },
  {
   "cell_type": "code",
   "execution_count": 20,
   "id": "279910d5",
   "metadata": {},
   "outputs": [],
   "source": [
    "# Import required libraries\n",
    "import os\n",
    "import cv2 # opencv\n",
    "import requests\n",
    "import io\n",
    "import numpy as np\n",
    "import pandas as pd\n",
    "import matplotlib.pyplot as plt\n",
    "\n",
    "from sklearn.model_selection import train_test_split\n",
    "from sklearn.preprocessing import PolynomialFeatures, StandardScaler\n",
    "from sklearn.linear_model import LogisticRegression\n",
    "from sklearn.decomposition import PCA\n",
    "from sklearn.svm import SVC\n",
    "from sklearn.metrics import confusion_matrix, classification_report"
   ]
  },
  {
   "cell_type": "markdown",
   "id": "8fc0a9a6",
   "metadata": {},
   "source": [
    "## Define Functions"
   ]
  },
  {
   "cell_type": "code",
   "execution_count": 2,
   "id": "546bf637",
   "metadata": {},
   "outputs": [],
   "source": [
    "main_path = os.getcwd() + '/data/covid_xray/'\n",
    "train_path = main_path + 'train/'\n",
    "test_path = main_path + 'test/'\n",
    "\n",
    "max_dim = 200 # pixels\n",
    "normal = []\n",
    "pneumonia = []\n",
    "\n",
    "def precision_recall(conf_matrix):\n",
    "    tp = np.diag(conf_matrix)\n",
    "    fp = np.sum(conf_matrix, axis=0) - tp \n",
    "    fn = np.sum(conf_matrix, axis=1) - tp\n",
    "    \n",
    "    precision = tp / (tp + fp)\n",
    "    recall = tp / (tp + fn)\n",
    "    \n",
    "    return precision, recall\n",
    "\n",
    "\n",
    "def get_metrics(y_test, predicted):\n",
    "    conf_matrix = confusion_matrix(y_test, predicted)\n",
    "    plt.imshow(conf_matrix)\n",
    "    print(pd.DataFrame(conf_matrix, columns=[0,1], index=[0,1]))\n",
    "    print(precision_recall(conf_matrix))\n",
    "    \n",
    "    \n",
    "# Requires images to be downloaded\n",
    "def convert_images(subpath):\n",
    "    global normal, pneumonia\n",
    "    for i in ['NORMAL/', 'PNEUMONIA/']:\n",
    "        path = subpath + i\n",
    "        for xray in os.listdir(path):\n",
    "            # print(xray) # image name\n",
    "\n",
    "            # Convert image to np array using opencv\n",
    "            try:\n",
    "                img = cv2.imread(path + xray)\n",
    "                img = cv2.cvtColor(img, cv2.COLOR_BGR2GRAY) # convert to grayscale\n",
    "                img_resize = cv2.resize(img, (max_dim, max_dim), cv2.INTER_AREA) # shrink img to 200 by 200\n",
    "                \n",
    "                \n",
    "                if i == \"NORMAL/\":\n",
    "                    normal.append(img_resize)\n",
    "                    #normal = np.append(normal, img_resize, axis=0)\n",
    "                else:\n",
    "                    pneumonia.append(img_resize)\n",
    "                    #pneumonia = np.append(pneumonia, img_resize, axis=0)\n",
    "                    \n",
    "            except Exception as e:\n",
    "                print(e)\n",
    "\n",
    "        print(\"Finished \" + i)"
   ]
  },
  {
   "cell_type": "markdown",
   "id": "ad47107b",
   "metadata": {},
   "source": [
    "## Data preprocessing"
   ]
  },
  {
   "cell_type": "code",
   "execution_count": null,
   "id": "5e6c828b",
   "metadata": {},
   "outputs": [],
   "source": [
    "# Only use these functions if you have the data manually downloaded\n",
    "\n",
    "#convert_images(train_path)\n",
    "#convert_images(test_path)\n",
    "\n",
    "# Write to a file for ease of data access\n",
    "# normal = np.asarray(normal)\n",
    "# pneumonia = np.asarray(pneumonia)\n",
    "# np.save(main_path + \"normal_arr.npy\", normal)\n",
    "# np.save(main_path + \"pneu_arr.npy\", pneumonia)\n",
    "\n",
    "# Load data from data.npy\n",
    "#normal = np.load(main_path + \"normal_arr.npy\", allow_pickle=True)\n",
    "#pneumonia = np.load(main_path + \"pneu_arr.npy\", allow_pickle=True)\n",
    "\n",
    "#print(normal.shape)\n",
    "#print(pneumonia.shape)"
   ]
  },
  {
   "cell_type": "code",
   "execution_count": 3,
   "id": "41a316d7",
   "metadata": {},
   "outputs": [
    {
     "name": "stdout",
     "output_type": "stream",
     "text": [
      "Normal size: (1575, 200, 200)\n",
      "Pneumonia size: (4265, 200, 200)\n"
     ]
    }
   ],
   "source": [
    "# Load data from silk server\n",
    "URL_NORM = \"https://brussava.w3.uvm.edu/cs254/covid_xray/normal_arr.npy\"\n",
    "resp = requests.get(URL_NORM)\n",
    "resp.raise_for_status()\n",
    "normal = np.load(io.BytesIO(resp.content), allow_pickle=True)\n",
    "\n",
    "URL_PNEU = \"https://brussava.w3.uvm.edu/cs254/covid_xray/pneu_arr.npy\"\n",
    "resp = requests.get(URL_PNEU)\n",
    "resp.raise_for_status()\n",
    "pneumonia = np.load(io.BytesIO(resp.content), allow_pickle=True)\n",
    "\n",
    "\n",
    "print(f\"Normal size: {normal.shape}\")\n",
    "print(f\"Pneumonia size: {pneumonia.shape}\")"
   ]
  },
  {
   "cell_type": "code",
   "execution_count": 4,
   "id": "25d6c88a",
   "metadata": {},
   "outputs": [
    {
     "name": "stdout",
     "output_type": "stream",
     "text": [
      "[[14 23 27 ... 29 23 19]\n",
      " [19 21 27 ... 31 25 18]\n",
      " [14 24 29 ... 27 23 17]\n",
      " ...\n",
      " [ 0  0  0 ...  0  0  0]\n",
      " [ 0  0  0 ...  0  0  0]\n",
      " [ 0  0  0 ...  0  0  0]]\n"
     ]
    }
   ],
   "source": [
    "# Visualize an xray image\n",
    "print(normal[1])\n",
    "\n",
    "# This shows as a popup window\n",
    "#cv2.imshow('Test', normal[1])\n",
    "#cv2.waitKey(0) # Do not delete this line or the notebook kernel will crash"
   ]
  },
  {
   "cell_type": "code",
   "execution_count": 5,
   "id": "2f79d9fa",
   "metadata": {},
   "outputs": [
    {
     "name": "stdout",
     "output_type": "stream",
     "text": [
      "Before flattening\n",
      "(1575, 200, 200)\n",
      "(4265, 200, 200)\n",
      "\n",
      "After flattening\n",
      "(1575, 40000)\n",
      "(4265, 40000)\n",
      "Training x: (4380, 40000) y: (4380,)\n",
      "Testing x: (1460, 40000) y: (1460,)\n",
      "Before normalization:\n",
      "[  0   0   0 ...   0   0 101]\n",
      "\n",
      "After normalization:\n",
      "[0.         0.         0.         ... 0.         0.         0.39607843]\n"
     ]
    }
   ],
   "source": [
    "# Convert from 3D to 2D\n",
    "print(\"Before flattening\")\n",
    "print(normal.shape)\n",
    "print(pneumonia.shape)\n",
    "\n",
    "examples_n, dim_x_n, dim_y_n = normal.shape\n",
    "normal = normal.reshape((examples_n, dim_x_n * dim_y_n))\n",
    "\n",
    "examples_p, dim_x_p, dim_y_p = pneumonia.shape\n",
    "pneumonia = pneumonia.reshape((examples_p, dim_x_p * dim_y_p))\n",
    "\n",
    "print(\"\\nAfter flattening\")\n",
    "print(normal.shape)\n",
    "print(pneumonia.shape)\n",
    "\n",
    "# Create X and Y\n",
    "X = np.append(normal, pneumonia, axis=0)\n",
    "y = np.array([0 for _ in range(normal.shape[0])])\n",
    "y = np.append(y, [1 for _ in range(pneumonia.shape[0])], axis=0)\n",
    "\n",
    "\n",
    "# Splitting into train and test\n",
    "x_train, x_test, y_train, y_test = train_test_split(X, y, test_size=0.25, random_state=0)\n",
    "print(\"Training x:\", x_train.shape, \"y:\", y_train.shape)\n",
    "print(\"Testing x:\", x_test.shape, \"y:\", y_test.shape)\n",
    "\n",
    "print(\"Before normalization:\")\n",
    "print(x_train[10])\n",
    "\n",
    "# Normalize RGB values from 0-255 to 0-1 (div by 255)\n",
    "x_train = np.array(x_train) / 255\n",
    "x_test = np.array(x_test) / 255\n",
    "\n",
    "print(\"\\nAfter normalization:\")\n",
    "print(x_train[10])"
   ]
  },
  {
   "cell_type": "markdown",
   "id": "471d9a5b",
   "metadata": {},
   "source": [
    "## Models"
   ]
  },
  {
   "cell_type": "markdown",
   "id": "933353a1",
   "metadata": {},
   "source": [
    "### Logistic Regression"
   ]
  },
  {
   "cell_type": "code",
   "execution_count": 23,
   "id": "5374cf8d",
   "metadata": {},
   "outputs": [],
   "source": [
    "# Probably switch to RF or a cnn\n",
    "\n",
    "\n",
    "#log_reg = LogisticRegression(solver=\"saga\", max_iter=300, random_state=0)\n",
    "# log_reg = LogisticRegression(solver=\"saga\", random_state=0)\n",
    "# log_reg = log_reg.fit(x_train_ss, y_train_ss)\n",
    "# log_reg_pred = log_reg.predict(x_test_ss)"
   ]
  },
  {
   "cell_type": "markdown",
   "id": "60f2c62b",
   "metadata": {},
   "source": [
    "### Logistic Regression Results"
   ]
  },
  {
   "cell_type": "code",
   "execution_count": 25,
   "id": "e7995b89",
   "metadata": {},
   "outputs": [],
   "source": [
    "#get_metrics(y_test, log_reg_pred)"
   ]
  },
  {
   "cell_type": "markdown",
   "id": "943e4a25",
   "metadata": {},
   "source": [
    "### SVM"
   ]
  },
  {
   "cell_type": "code",
   "execution_count": 24,
   "id": "989140de",
   "metadata": {},
   "outputs": [],
   "source": [
    "svc = SVC(kernel=\"poly\")\n",
    "svc_predicted = svc.fit(x_train, y_train).predict(x_test)"
   ]
  },
  {
   "cell_type": "markdown",
   "id": "e68b1dc8",
   "metadata": {},
   "source": [
    "### SVM Metrics"
   ]
  },
  {
   "cell_type": "code",
   "execution_count": 26,
   "id": "c753d53a",
   "metadata": {},
   "outputs": [
    {
     "name": "stdout",
     "output_type": "stream",
     "text": [
      "     0     1\n",
      "0  341    55\n",
      "1   29  1035\n",
      "(array([0.92162162, 0.94954128]), array([0.86111111, 0.97274436]))\n"
     ]
    },
    {
     "data": {
      "image/png": "[encoded data removed]",
      "text/plain": [
       "<Figure size 432x288 with 1 Axes>"
      ]
     },
     "metadata": {
      "needs_background": "light"
     },
     "output_type": "display_data"
    }
   ],
   "source": [
    "get_metrics(y_test, svc_predicted)"
   ]
  },
  {
   "cell_type": "code",
   "execution_count": null,
   "id": "c1c15b32",
   "metadata": {},
   "outputs": [],
   "source": []
  }
 ],
 "metadata": {
  "kernelspec": {
   "display_name": "Python 3 (ipykernel)",
   "language": "python",
   "name": "python3"
  },
  "language_info": {
   "codemirror_mode": {
    "name": "ipython",
    "version": 3
   },
   "file_extension": ".py",
   "mimetype": "text/x-python",
   "name": "python",
   "nbconvert_exporter": "python",
   "pygments_lexer": "ipython3",
   "version": "3.8.12"
  }
 },
 "nbformat": 4,
 "nbformat_minor": 5
}
